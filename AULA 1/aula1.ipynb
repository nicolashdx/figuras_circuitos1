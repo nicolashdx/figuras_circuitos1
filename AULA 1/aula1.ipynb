{
 "cells": [
  {
   "cell_type": "code",
   "execution_count": 9,
   "metadata": {},
   "outputs": [],
   "source": [
    "import schemdraw\n",
    "import schemdraw.elements as elm\n",
    "\n",
    "from PIL import Image\n",
    "import matplotlib.pyplot as plt"
   ]
  },
  {
   "cell_type": "code",
   "execution_count": 10,
   "metadata": {},
   "outputs": [
    {
     "data": {
      "image/svg+xml": [
       "<svg xmlns=\"http://www.w3.org/2000/svg\" xml:lang=\"en\" height=\"219.3pt\" width=\"317.372pt\" viewBox=\"-54.676 -212.0 317.372 219.3\"><circle cx=\"3.3065463576978533e-15\" cy=\"-54.0\" r=\"18.0\" style=\"stroke:black;fill:none;stroke-width:2.0;\" /><circle cx=\"216.0\" cy=\"-54.0\" r=\"18.0\" style=\"stroke:black;fill:none;stroke-width:2.0;\" /><path d=\"M 0.0,-0.0 L 2.204364238465236e-15,-36.0 L 2.204364238465236e-15,-36.0 M 4.408728476930472e-15,-72.0 L 4.408728476930472e-15,-72.0 L 6.613092715395707e-15,-108.0\" style=\"stroke:black;fill:none;stroke-width:2.0;stroke-linecap:round;stroke-linejoin:round;\" /><path d=\"M 3.600000000000003,-45.0 L -3.599999999999997,-45.0\" style=\"stroke:blue;fill:none;stroke-width:2.0;stroke-linecap:round;stroke-linejoin:round;\" /><path d=\"M 3.637200993467639e-15,-59.4 L 4.078073841160686e-15,-66.60000000000001\" style=\"stroke:blue;fill:none;stroke-width:2.0;stroke-linecap:round;stroke-linejoin:round;\" /><path d=\"M 3.600000000000004,-63.0 L -3.599999999999996,-63.0\" style=\"stroke:blue;fill:none;stroke-width:2.0;stroke-linecap:round;stroke-linejoin:round;\" /><path d=\"M 6.613092715395707e-15,-108.0 L 8.817456953860943e-15,-144.0 L 1.1021821192326178e-14,-180.0\" style=\"stroke:black;fill:none;stroke-width:2.0;stroke-linecap:round;stroke-linejoin:round;\" /><path d=\"M 1.1021821192326178e-14,-180.0 L 36.00000000000001,-180.0 L 39.00000000000001,-189.0 L 45.00000000000001,-171.0 L 51.0,-189.0 L 57.00000000000001,-171.0 L 63.00000000000001,-189.0 L 69.0,-171.0 L 72.00000000000001,-180.0 L 108.00000000000001,-180.0\" style=\"stroke:black;fill:none;stroke-width:2.0;stroke-linecap:round;stroke-linejoin:round;\" /><path d=\"M 108.00000000000001,-180.0 L 144.0,-180.0 M 180.0,-180.0 L 162.0,-162.0 L 144.0,-180.0 L 162.0,-198.0 L 180.0,-180.0 L 216.0,-180.0\" style=\"stroke:black;fill:none;stroke-width:2.0;stroke-linecap:round;stroke-linejoin:round;\" /><path d=\"M 171.0,-183.6 L 171.0,-176.4\" style=\"stroke:blue;fill:none;stroke-width:2.0;stroke-linecap:round;stroke-linejoin:round;\" /><path d=\"M 149.4,-180.0 L 156.60000000000002,-180.0\" style=\"stroke:blue;fill:none;stroke-width:2.0;stroke-linecap:round;stroke-linejoin:round;\" /><path d=\"M 153.0,-183.6 L 153.0,-176.4\" style=\"stroke:blue;fill:none;stroke-width:2.0;stroke-linecap:round;stroke-linejoin:round;\" /><path d=\"M 216.0,-180.0 L 216.0,-144.0 L 216.0,-108.0\" style=\"stroke:black;fill:none;stroke-width:2.0;stroke-linecap:round;stroke-linejoin:round;\" /><path d=\"M 6.613092715395707e-15,-108.0 L 36.00000000000001,-108.0 L 54.00000000000001,-126.0 L 72.0,-108.0 L 54.00000000000001,-90.0 L 36.00000000000001,-108.0 M 72.0,-108.0 L 108.0,-108.0\" style=\"stroke:black;fill:none;stroke-width:2.0;stroke-linecap:round;stroke-linejoin:round;\" /><path d=\"M 45.00000000000001,-108.0 L 54.00000000000001,-108.0\" style=\"stroke:red;fill:none;stroke-width:2.0;stroke-linecap:round;stroke-linejoin:round;\" /><path d=\"M 61.00000000000001 -108.0 L 54.00000000000001 -105.3 L 54.00000000000001 -110.7 Z\" style=\"stroke:red;fill:red;stroke-linecap:butt;stroke-linejoin:miter;\" /><path d=\"M 108.0,-108.0 L 108.0,-72.0 L 117.0,-69.0 L 99.0,-63.0 L 116.99999999999999,-57.00000000000001 L 98.99999999999999,-51.0 L 116.99999999999999,-45.0 L 98.99999999999999,-39.00000000000001 L 107.99999999999999,-36.0 L 107.99999999999999,-0.0\" style=\"stroke:black;fill:none;stroke-width:2.0;stroke-linecap:round;stroke-linejoin:round;\" /><path d=\"M 108.0,-108.0 L 144.0,-108.0 L 147.0,-117.0 L 153.0,-99.0 L 158.99999999999997,-117.0 L 165.0,-99.0 L 171.0,-117.0 L 176.99999999999997,-99.0 L 180.0,-108.0 L 216.0,-108.0\" style=\"stroke:black;fill:none;stroke-width:2.0;stroke-linecap:round;stroke-linejoin:round;\" /><path d=\"M 192.6,-95.4 L 210.60000000000002,-95.4\" style=\"stroke:red;fill:none;stroke-width:2.0;stroke-linecap:round;stroke-linejoin:round;\" /><path d=\"M 183.79999999999998 -95.4 L 192.6 -99.0 L 192.6 -91.80000000000001 Z\" style=\"stroke:red;fill:red;stroke-linecap:butt;stroke-linejoin:miter;\" /><path d=\"M 216.0,-108.0 L 216.0,-72.0 L 216.0,-72.0 M 216.0,-36.0 L 216.0,-36.0 L 215.99999999999997,-0.0\" style=\"stroke:black;fill:none;stroke-width:2.0;stroke-linecap:round;stroke-linejoin:round;\" /><path d=\"M 216.0,-54.0 L 216.0,-45.0\" style=\"stroke:red;fill:none;stroke-width:2.0;stroke-linecap:round;stroke-linejoin:round;\" /><path d=\"M 216.0 -61.0 L 218.7 -54.0 L 213.3 -54.0 Z\" style=\"stroke:red;fill:red;stroke-linecap:butt;stroke-linejoin:miter;\" /><path d=\"M 215.99999999999997,-0.0 L 107.99999999999999,-1.3226185430791412e-14 L 0.0,-2.6452370861582824e-14\" style=\"stroke:black;fill:none;stroke-width:2.0;stroke-linecap:round;stroke-linejoin:round;\" /><text x=\"-21.599999999999994\" y=\"-59.6\" fill=\"blue\" font-size=\"14.0\" font-family=\"sans\" text-anchor=\"end\"><tspan x=\"-21.599999999999994\" dy=\"14.0\">30 V</tspan></text><text x=\"54.00000000000001\" y=\"-203.79999999999998\" fill=\"black\" font-size=\"14.0\" font-family=\"sans\" text-anchor=\"middle\"><tspan x=\"54.00000000000001\" dy=\"14.0\">20 Ω</tspan></text><text x=\"27.00000000000001\" y=\"-167.4\" fill=\"blue\" font-size=\"14.0\" font-family=\"sans\" text-anchor=\"middle\"><tspan x=\"27.00000000000001\" dy=\"14.0\">+</tspan></text><text x=\"54.00000000000001\" y=\"-167.4\" fill=\"blue\" font-size=\"14.0\" font-family=\"sans\" text-anchor=\"middle\"><tspan x=\"54.00000000000001\" dy=\"14.0\">v<tspan baseline-shift=\"sub\" font-size=\"smaller\">y</tspan></tspan></text><text x=\"81.00000000000001\" y=\"-167.4\" fill=\"blue\" font-size=\"14.0\" font-family=\"sans\" text-anchor=\"middle\"><tspan x=\"81.00000000000001\" dy=\"14.0\">-</tspan></text><text x=\"162.0\" y=\"-207.4\" fill=\"blue\" font-size=\"14.0\" font-family=\"sans\" text-anchor=\"middle\"><tspan x=\"162.0\" dy=\"14.0\">5v<tspan baseline-shift=\"sub\" font-size=\"smaller\">ϕ</tspan></tspan></text><text x=\"54.00000000000001\" y=\"-139.0\" fill=\"red\" font-size=\"14.0\" font-family=\"sans\" text-anchor=\"middle\"><tspan x=\"54.00000000000001\" dy=\"14.0\">3i₁</tspan></text><text x=\"95.39999999999999\" y=\"-59.6\" fill=\"black\" font-size=\"14.0\" font-family=\"sans\" text-anchor=\"end\"><tspan x=\"95.39999999999999\" dy=\"14.0\">10 Ω</tspan></text><text x=\"120.6\" y=\"-86.60000000000001\" fill=\"blue\" font-size=\"14.0\" font-family=\"sans\" text-anchor=\"start\"><tspan x=\"120.6\" dy=\"14.0\">+</tspan></text><text x=\"120.6\" y=\"-59.6\" fill=\"blue\" font-size=\"14.0\" font-family=\"sans\" text-anchor=\"start\"><tspan x=\"120.6\" dy=\"14.0\">v<tspan baseline-shift=\"sub\" font-size=\"smaller\">ϕ</tspan></tspan></text><text x=\"120.6\" y=\"-32.6\" fill=\"blue\" font-size=\"14.0\" font-family=\"sans\" text-anchor=\"start\"><tspan x=\"120.6\" dy=\"14.0\">-</tspan></text><text x=\"162.0\" y=\"-131.8\" fill=\"black\" font-size=\"14.0\" font-family=\"sans\" text-anchor=\"middle\"><tspan x=\"162.0\" dy=\"14.0\">20 Ω</tspan></text><text x=\"196.20000000000002\" y=\"-91.80000000000001\" fill=\"red\" font-size=\"14.0\" font-family=\"sans\" text-anchor=\"middle\"><tspan x=\"196.20000000000002\" dy=\"14.0\">i₁</tspan></text><text x=\"237.6\" y=\"-59.6\" fill=\"red\" font-size=\"14.0\" font-family=\"sans\" text-anchor=\"start\"><tspan x=\"237.6\" dy=\"14.0\">2 A</tspan></text><circle cx=\"6.613092715395707e-15\" cy=\"-108.0\" r=\"2.6999999999999997\" style=\"stroke:blue;fill:blue;stroke-width:2.0;\" /><circle cx=\"216.0\" cy=\"-108.0\" r=\"2.6999999999999997\" style=\"stroke:blue;fill:blue;stroke-width:2.0;\" /><circle cx=\"108.0\" cy=\"-108.0\" r=\"2.6999999999999997\" style=\"stroke:blue;fill:blue;stroke-width:2.0;\" /><circle cx=\"107.99999999999999\" cy=\"-0.0\" r=\"2.6999999999999997\" style=\"stroke:blue;fill:blue;stroke-width:2.0;\" /></svg>"
      ],
      "text/plain": [
       "<svg xmlns=\"http://www.w3.org/2000/svg\" xml:lang=\"en\" height=\"219.3pt\" width=\"317.372pt\" viewBox=\"-54.676 -212.0 317.372 219.3\"><circle cx=\"3.3065463576978533e-15\" cy=\"-54.0\" r=\"18.0\" style=\"stroke:black;fill:none;stroke-width:2.0;\" /><circle cx=\"216.0\" cy=\"-54.0\" r=\"18.0\" style=\"stroke:black;fill:none;stroke-width:2.0;\" /><path d=\"M 0.0,-0.0 L 2.204364238465236e-15,-36.0 L 2.204364238465236e-15,-36.0 M 4.408728476930472e-15,-72.0 L 4.408728476930472e-15,-72.0 L 6.613092715395707e-15,-108.0\" style=\"stroke:black;fill:none;stroke-width:2.0;stroke-linecap:round;stroke-linejoin:round;\" /><path d=\"M 3.600000000000003,-45.0 L -3.599999999999997,-45.0\" style=\"stroke:blue;fill:none;stroke-width:2.0;stroke-linecap:round;stroke-linejoin:round;\" /><path d=\"M 3.637200993467639e-15,-59.4 L 4.078073841160686e-15,-66.60000000000001\" style=\"stroke:blue;fill:none;stroke-width:2.0;stroke-linecap:round;stroke-linejoin:round;\" /><path d=\"M 3.600000000000004,-63.0 L -3.599999999999996,-63.0\" style=\"stroke:blue;fill:none;stroke-width:2.0;stroke-linecap:round;stroke-linejoin:round;\" /><path d=\"M 6.613092715395707e-15,-108.0 L 8.817456953860943e-15,-144.0 L 1.1021821192326178e-14,-180.0\" style=\"stroke:black;fill:none;stroke-width:2.0;stroke-linecap:round;stroke-linejoin:round;\" /><path d=\"M 1.1021821192326178e-14,-180.0 L 36.00000000000001,-180.0 L 39.00000000000001,-189.0 L 45.00000000000001,-171.0 L 51.0,-189.0 L 57.00000000000001,-171.0 L 63.00000000000001,-189.0 L 69.0,-171.0 L 72.00000000000001,-180.0 L 108.00000000000001,-180.0\" style=\"stroke:black;fill:none;stroke-width:2.0;stroke-linecap:round;stroke-linejoin:round;\" /><path d=\"M 108.00000000000001,-180.0 L 144.0,-180.0 M 180.0,-180.0 L 162.0,-162.0 L 144.0,-180.0 L 162.0,-198.0 L 180.0,-180.0 L 216.0,-180.0\" style=\"stroke:black;fill:none;stroke-width:2.0;stroke-linecap:round;stroke-linejoin:round;\" /><path d=\"M 171.0,-183.6 L 171.0,-176.4\" style=\"stroke:blue;fill:none;stroke-width:2.0;stroke-linecap:round;stroke-linejoin:round;\" /><path d=\"M 149.4,-180.0 L 156.60000000000002,-180.0\" style=\"stroke:blue;fill:none;stroke-width:2.0;stroke-linecap:round;stroke-linejoin:round;\" /><path d=\"M 153.0,-183.6 L 153.0,-176.4\" style=\"stroke:blue;fill:none;stroke-width:2.0;stroke-linecap:round;stroke-linejoin:round;\" /><path d=\"M 216.0,-180.0 L 216.0,-144.0 L 216.0,-108.0\" style=\"stroke:black;fill:none;stroke-width:2.0;stroke-linecap:round;stroke-linejoin:round;\" /><path d=\"M 6.613092715395707e-15,-108.0 L 36.00000000000001,-108.0 L 54.00000000000001,-126.0 L 72.0,-108.0 L 54.00000000000001,-90.0 L 36.00000000000001,-108.0 M 72.0,-108.0 L 108.0,-108.0\" style=\"stroke:black;fill:none;stroke-width:2.0;stroke-linecap:round;stroke-linejoin:round;\" /><path d=\"M 45.00000000000001,-108.0 L 54.00000000000001,-108.0\" style=\"stroke:red;fill:none;stroke-width:2.0;stroke-linecap:round;stroke-linejoin:round;\" /><path d=\"M 61.00000000000001 -108.0 L 54.00000000000001 -105.3 L 54.00000000000001 -110.7 Z\" style=\"stroke:red;fill:red;stroke-linecap:butt;stroke-linejoin:miter;\" /><path d=\"M 108.0,-108.0 L 108.0,-72.0 L 117.0,-69.0 L 99.0,-63.0 L 116.99999999999999,-57.00000000000001 L 98.99999999999999,-51.0 L 116.99999999999999,-45.0 L 98.99999999999999,-39.00000000000001 L 107.99999999999999,-36.0 L 107.99999999999999,-0.0\" style=\"stroke:black;fill:none;stroke-width:2.0;stroke-linecap:round;stroke-linejoin:round;\" /><path d=\"M 108.0,-108.0 L 144.0,-108.0 L 147.0,-117.0 L 153.0,-99.0 L 158.99999999999997,-117.0 L 165.0,-99.0 L 171.0,-117.0 L 176.99999999999997,-99.0 L 180.0,-108.0 L 216.0,-108.0\" style=\"stroke:black;fill:none;stroke-width:2.0;stroke-linecap:round;stroke-linejoin:round;\" /><path d=\"M 192.6,-95.4 L 210.60000000000002,-95.4\" style=\"stroke:red;fill:none;stroke-width:2.0;stroke-linecap:round;stroke-linejoin:round;\" /><path d=\"M 183.79999999999998 -95.4 L 192.6 -99.0 L 192.6 -91.80000000000001 Z\" style=\"stroke:red;fill:red;stroke-linecap:butt;stroke-linejoin:miter;\" /><path d=\"M 216.0,-108.0 L 216.0,-72.0 L 216.0,-72.0 M 216.0,-36.0 L 216.0,-36.0 L 215.99999999999997,-0.0\" style=\"stroke:black;fill:none;stroke-width:2.0;stroke-linecap:round;stroke-linejoin:round;\" /><path d=\"M 216.0,-54.0 L 216.0,-45.0\" style=\"stroke:red;fill:none;stroke-width:2.0;stroke-linecap:round;stroke-linejoin:round;\" /><path d=\"M 216.0 -61.0 L 218.7 -54.0 L 213.3 -54.0 Z\" style=\"stroke:red;fill:red;stroke-linecap:butt;stroke-linejoin:miter;\" /><path d=\"M 215.99999999999997,-0.0 L 107.99999999999999,-1.3226185430791412e-14 L 0.0,-2.6452370861582824e-14\" style=\"stroke:black;fill:none;stroke-width:2.0;stroke-linecap:round;stroke-linejoin:round;\" /><text x=\"-21.599999999999994\" y=\"-59.6\" fill=\"blue\" font-size=\"14.0\" font-family=\"sans\" text-anchor=\"end\"><tspan x=\"-21.599999999999994\" dy=\"14.0\">30 V</tspan></text><text x=\"54.00000000000001\" y=\"-203.79999999999998\" fill=\"black\" font-size=\"14.0\" font-family=\"sans\" text-anchor=\"middle\"><tspan x=\"54.00000000000001\" dy=\"14.0\">20 Ω</tspan></text><text x=\"27.00000000000001\" y=\"-167.4\" fill=\"blue\" font-size=\"14.0\" font-family=\"sans\" text-anchor=\"middle\"><tspan x=\"27.00000000000001\" dy=\"14.0\">+</tspan></text><text x=\"54.00000000000001\" y=\"-167.4\" fill=\"blue\" font-size=\"14.0\" font-family=\"sans\" text-anchor=\"middle\"><tspan x=\"54.00000000000001\" dy=\"14.0\">v<tspan baseline-shift=\"sub\" font-size=\"smaller\">y</tspan></tspan></text><text x=\"81.00000000000001\" y=\"-167.4\" fill=\"blue\" font-size=\"14.0\" font-family=\"sans\" text-anchor=\"middle\"><tspan x=\"81.00000000000001\" dy=\"14.0\">-</tspan></text><text x=\"162.0\" y=\"-207.4\" fill=\"blue\" font-size=\"14.0\" font-family=\"sans\" text-anchor=\"middle\"><tspan x=\"162.0\" dy=\"14.0\">5v<tspan baseline-shift=\"sub\" font-size=\"smaller\">ϕ</tspan></tspan></text><text x=\"54.00000000000001\" y=\"-139.0\" fill=\"red\" font-size=\"14.0\" font-family=\"sans\" text-anchor=\"middle\"><tspan x=\"54.00000000000001\" dy=\"14.0\">3i₁</tspan></text><text x=\"95.39999999999999\" y=\"-59.6\" fill=\"black\" font-size=\"14.0\" font-family=\"sans\" text-anchor=\"end\"><tspan x=\"95.39999999999999\" dy=\"14.0\">10 Ω</tspan></text><text x=\"120.6\" y=\"-86.60000000000001\" fill=\"blue\" font-size=\"14.0\" font-family=\"sans\" text-anchor=\"start\"><tspan x=\"120.6\" dy=\"14.0\">+</tspan></text><text x=\"120.6\" y=\"-59.6\" fill=\"blue\" font-size=\"14.0\" font-family=\"sans\" text-anchor=\"start\"><tspan x=\"120.6\" dy=\"14.0\">v<tspan baseline-shift=\"sub\" font-size=\"smaller\">ϕ</tspan></tspan></text><text x=\"120.6\" y=\"-32.6\" fill=\"blue\" font-size=\"14.0\" font-family=\"sans\" text-anchor=\"start\"><tspan x=\"120.6\" dy=\"14.0\">-</tspan></text><text x=\"162.0\" y=\"-131.8\" fill=\"black\" font-size=\"14.0\" font-family=\"sans\" text-anchor=\"middle\"><tspan x=\"162.0\" dy=\"14.0\">20 Ω</tspan></text><text x=\"196.20000000000002\" y=\"-91.80000000000001\" fill=\"red\" font-size=\"14.0\" font-family=\"sans\" text-anchor=\"middle\"><tspan x=\"196.20000000000002\" dy=\"14.0\">i₁</tspan></text><text x=\"237.6\" y=\"-59.6\" fill=\"red\" font-size=\"14.0\" font-family=\"sans\" text-anchor=\"start\"><tspan x=\"237.6\" dy=\"14.0\">2 A</tspan></text><circle cx=\"6.613092715395707e-15\" cy=\"-108.0\" r=\"2.6999999999999997\" style=\"stroke:blue;fill:blue;stroke-width:2.0;\" /><circle cx=\"216.0\" cy=\"-108.0\" r=\"2.6999999999999997\" style=\"stroke:blue;fill:blue;stroke-width:2.0;\" /><circle cx=\"108.0\" cy=\"-108.0\" r=\"2.6999999999999997\" style=\"stroke:blue;fill:blue;stroke-width:2.0;\" /><circle cx=\"107.99999999999999\" cy=\"-0.0\" r=\"2.6999999999999997\" style=\"stroke:blue;fill:blue;stroke-width:2.0;\" /></svg>"
      ]
     },
     "metadata": {},
     "output_type": "display_data"
    },
    {
     "ename": "ValueError",
     "evalue": "SVG backend only supports saving SVG format figures.",
     "output_type": "error",
     "traceback": [
      "\u001b[1;31m---------------------------------------------------------------------------\u001b[0m",
      "\u001b[1;31mValueError\u001b[0m                                Traceback (most recent call last)",
      "Cell \u001b[1;32mIn[10], line 39\u001b[0m\n\u001b[0;32m     35\u001b[0m I2\u001b[38;5;241m.\u001b[39msegments[\u001b[38;5;241m2\u001b[39m]\u001b[38;5;241m.\u001b[39mcolor \u001b[38;5;241m=\u001b[39m \u001b[38;5;124m'\u001b[39m\u001b[38;5;124mred\u001b[39m\u001b[38;5;124m'\u001b[39m\n\u001b[0;32m     37\u001b[0m L3 \u001b[38;5;241m=\u001b[39m elm\u001b[38;5;241m.\u001b[39mLine()\u001b[38;5;241m.\u001b[39mtox(V1\u001b[38;5;241m.\u001b[39mstart)\n\u001b[1;32m---> 39\u001b[0m \u001b[43md\u001b[49m\u001b[38;5;241;43m.\u001b[39;49m\u001b[43msave\u001b[49m\u001b[43m(\u001b[49m\u001b[38;5;124;43m\"\u001b[39;49m\u001b[38;5;124;43mmulticolorido.jpg\u001b[39;49m\u001b[38;5;124;43m\"\u001b[39;49m\u001b[43m,\u001b[49m\u001b[43m \u001b[49m\u001b[43mdpi\u001b[49m\u001b[38;5;241;43m=\u001b[39;49m\u001b[38;5;241;43m300\u001b[39;49m\u001b[43m)\u001b[49m\n",
      "File \u001b[1;32mc:\\Users\\nicol\\AppData\\Local\\Programs\\Python\\Python312\\Lib\\site-packages\\schemdraw\\schemdraw.py:500\u001b[0m, in \u001b[0;36mDrawing.save\u001b[1;34m(self, fname, transparent, dpi)\u001b[0m\n\u001b[0;32m    498\u001b[0m \u001b[38;5;28;01mif\u001b[39;00m \u001b[38;5;28mself\u001b[39m\u001b[38;5;241m.\u001b[39mfig \u001b[38;5;129;01mis\u001b[39;00m \u001b[38;5;28;01mNone\u001b[39;00m:\n\u001b[0;32m    499\u001b[0m     \u001b[38;5;28mself\u001b[39m\u001b[38;5;241m.\u001b[39mdraw(show\u001b[38;5;241m=\u001b[39m\u001b[38;5;28;01mFalse\u001b[39;00m)\n\u001b[1;32m--> 500\u001b[0m \u001b[38;5;28;43mself\u001b[39;49m\u001b[38;5;241;43m.\u001b[39;49m\u001b[43mfig\u001b[49m\u001b[38;5;241;43m.\u001b[39;49m\u001b[43msave\u001b[49m\u001b[43m(\u001b[49m\u001b[43mfname\u001b[49m\u001b[43m,\u001b[49m\u001b[43m \u001b[49m\u001b[43mtransparent\u001b[49m\u001b[38;5;241;43m=\u001b[39;49m\u001b[43mtransparent\u001b[49m\u001b[43m,\u001b[49m\u001b[43m \u001b[49m\u001b[43mdpi\u001b[49m\u001b[38;5;241;43m=\u001b[39;49m\u001b[43mdpi\u001b[49m\u001b[43m)\u001b[49m\n",
      "File \u001b[1;32mc:\\Users\\nicol\\AppData\\Local\\Programs\\Python\\Python312\\Lib\\site-packages\\schemdraw\\backends\\svg.py:605\u001b[0m, in \u001b[0;36mFigure.save\u001b[1;34m(self, fname, **kwargs)\u001b[0m\n\u001b[0;32m    603\u001b[0m ext \u001b[38;5;241m=\u001b[39m os\u001b[38;5;241m.\u001b[39mpath\u001b[38;5;241m.\u001b[39msplitext(fname)[\u001b[38;5;241m1\u001b[39m]\n\u001b[0;32m    604\u001b[0m \u001b[38;5;28;01mif\u001b[39;00m ext\u001b[38;5;241m.\u001b[39mlower() \u001b[38;5;241m!=\u001b[39m \u001b[38;5;124m'\u001b[39m\u001b[38;5;124m.svg\u001b[39m\u001b[38;5;124m'\u001b[39m:\n\u001b[1;32m--> 605\u001b[0m     \u001b[38;5;28;01mraise\u001b[39;00m \u001b[38;5;167;01mValueError\u001b[39;00m(\u001b[38;5;124m'\u001b[39m\u001b[38;5;124mSVG backend only supports saving SVG format figures.\u001b[39m\u001b[38;5;124m'\u001b[39m)\n\u001b[0;32m    606\u001b[0m \u001b[38;5;28;01mwith\u001b[39;00m \u001b[38;5;28mopen\u001b[39m(fname, \u001b[38;5;124m'\u001b[39m\u001b[38;5;124mw\u001b[39m\u001b[38;5;124m'\u001b[39m, encoding\u001b[38;5;241m=\u001b[39m\u001b[38;5;124m'\u001b[39m\u001b[38;5;124mutf-8\u001b[39m\u001b[38;5;124m'\u001b[39m) \u001b[38;5;28;01mas\u001b[39;00m f:\n\u001b[0;32m    607\u001b[0m     f\u001b[38;5;241m.\u001b[39mwrite(svg)\n",
      "\u001b[1;31mValueError\u001b[0m: SVG backend only supports saving SVG format figures."
     ]
    }
   ],
   "source": [
    "with schemdraw.Drawing() as d:\n",
    "    d.config(unit=3)\n",
    "    \n",
    "    V1 = elm.SourceV().label('30 V', color='blue')\n",
    "    V1.segments[4].color = 'blue'\n",
    "    V1.segments[2].color = 'blue'\n",
    "    V1.segments[3].color = 'blue'\n",
    "    elm.Dot().color('blue')\n",
    "    d.push()\n",
    "    L1 = elm.Line().up().length(2)\n",
    "    R1 = elm.Resistor().right().label('20 Ω').label(['+','$v_y$','-'], loc='bot', color='blue')\n",
    "\n",
    "    V2 = elm.SourceControlledV().right().label('5$v_ϕ$', color='blue', ofst=[0, -.05]).reverse()\n",
    "    V2.segments[1].color = 'blue'\n",
    "    V2.segments[2].color = 'blue'\n",
    "    V2.segments[3].color = 'blue'\n",
    "\n",
    "    L2 = elm.Line().down().length(2)\n",
    "    elm.Dot().color('blue')\n",
    "    d.pop()\n",
    "    I1 = elm.SourceControlledI().right().label('$3i_1$', color='red', ofst=[0, .05])\n",
    "    I1.segments[1].color ='red'\n",
    "    \n",
    "    elm.Dot().color('blue')\n",
    "    \n",
    "    d.push()\n",
    "    R2 = elm.Resistor().down().label('10 Ω', loc='top').label(['+','$v_ϕ$','-'], loc='bot', color='blue')\n",
    "    elm.Dot().color('blue')\n",
    "    d.pop()\n",
    "    R3 = elm.Resistor().right().label('20 Ω')\n",
    "    A1 = elm.CurrentLabel(top=False, ofst=-1.3, length=.8, reverse=True).at(R3.center + .95).label('$i_1$', loc='bot').color('red')\n",
    "    \n",
    "    I2 = elm.SourceI().down().reverse().label('2 A', color='red', loc='bot')\n",
    "\n",
    "    I2.segments[2].color = 'red'\n",
    "\n",
    "    L3 = elm.Line().tox(V1.start)\n",
    "    \n",
    "    d.save(\"multicolorido.jpg\", dpi=300)"
   ]
  }
 ],
 "metadata": {
  "kernelspec": {
   "display_name": "Python 3",
   "language": "python",
   "name": "python3"
  },
  "language_info": {
   "codemirror_mode": {
    "name": "ipython",
    "version": 3
   },
   "file_extension": ".py",
   "mimetype": "text/x-python",
   "name": "python",
   "nbconvert_exporter": "python",
   "pygments_lexer": "ipython3",
   "version": "3.12.5"
  }
 },
 "nbformat": 4,
 "nbformat_minor": 2
}
